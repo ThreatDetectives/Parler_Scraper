{
 "metadata": {
  "language_info": {
   "codemirror_mode": {
    "name": "ipython",
    "version": 3
   },
   "file_extension": ".py",
   "mimetype": "text/x-python",
   "name": "python",
   "nbconvert_exporter": "python",
   "pygments_lexer": "ipython3",
   "version": "3.9.1"
  },
  "orig_nbformat": 4,
  "kernelspec": {
   "name": "python3",
   "display_name": "Python 3.9.1 64-bit ('.venv': venv)"
  },
  "interpreter": {
   "hash": "001912007b57b26fef14816da5d7cdf1ca58878f5caf4e9fe67d2313bb24ff30"
  }
 },
 "nbformat": 4,
 "nbformat_minor": 2,
 "cells": [
  {
   "cell_type": "code",
   "execution_count": 1,
   "metadata": {},
   "outputs": [],
   "source": [
    "import requests\n",
    "from bs4 import BeautifulSoup"
   ]
  },
  {
   "source": [
    "## Search Query Terms\n",
    "'Black+Lice+Matters', 'Proud+Boys', 'QAnnon', 'OathKeepers', 'kill', 'murder', 'fight', 'hang', 'invade', 'insurrection', 'noose', 'threat', 'battle', 'warn', 'menace', 'risk', 'blackmail', 'danger', 'hazard', 'intimidate', 'peril', 'omen', 'disorder', 'Antifa', 'protest', 'Jan+6', 'object', 'January+6', 'gun', 'weapon', 'knife', 'sword', 'grave', 'destroy', 'attack', 'death', 'fuck', 'asshole', 'hack', 'violence', 'shit', 'dick', 'pussy', 'prick', 'retard', 'hate', 'supremacist', 'revolution', 'war', 'radical', 'race', 'racial', 'civil', 'leader', 'protect', 'shot', 'shoot', 'fact', 'truth', 'child', 'blood', 'hell', 'doom'"
   ],
   "cell_type": "markdown",
   "metadata": {}
  },
  {
   "cell_type": "code",
   "execution_count": 2,
   "metadata": {},
   "outputs": [],
   "source": [
    "# Using BeautifulSoup to scrape the website\n",
    "\n",
    "base_url = 'https://parler.adatascienti.st/'\n",
    "query = 'sword'\n",
    "search_query = 'search?q=' + query\n",
    "page = requests.get(base_url + search_query)\n",
    "soup = BeautifulSoup(page.content, \"html.parser\")"
   ]
  },
  {
   "cell_type": "code",
   "execution_count": 3,
   "metadata": {},
   "outputs": [],
   "source": [
    "# Grabbing the text data I want and saving it to a CSV file\n",
    "\n",
    "import csv\n",
    "p_tags = soup.find_all(\"p\")\n",
    "file_query = query.replace('+', '_')\n",
    "writer = csv.writer(open(f'posts_{file_query}.csv', 'w', newline='',))\n",
    "for p_tag in p_tags:\n",
    "    text = p_tag.get_text()\n",
    "    lst = []\n",
    "    if query.replace('_', ' ') in text:\n",
    "    # if 'Jan' in text:\n",
    "        lst.append(text)\n",
    "    writer.writerow(lst)"
   ]
  },
  {
   "cell_type": "code",
   "execution_count": 5,
   "metadata": {},
   "outputs": [
    {
     "output_type": "execute_result",
     "data": {
      "text/plain": [
       "                                                Post  ...  Neither\n",
       "0  Never forget - the same âconservativesâ & ...  ...      0.0\n",
       "1  More on Sheera. She wants you to superspread h...  ...      0.0\n",
       "2  ANTIFA and BLM are racist terror groups. They ...  ...      0.0\n",
       "3  Whatâs with Walmart calling Senator Josh Haw...  ...      1.0\n",
       "4  ANTIFA & BLM are racist terror groups. They at...  ...      0.0\n",
       "\n",
       "[5 rows x 5 columns]"
      ],
      "text/html": "<div>\n<style scoped>\n    .dataframe tbody tr th:only-of-type {\n        vertical-align: middle;\n    }\n\n    .dataframe tbody tr th {\n        vertical-align: top;\n    }\n\n    .dataframe thead th {\n        text-align: right;\n    }\n</style>\n<table border=\"1\" class=\"dataframe\">\n  <thead>\n    <tr style=\"text-align: right;\">\n      <th></th>\n      <th>Post</th>\n      <th>Threatening</th>\n      <th>Conspiracy</th>\n      <th>Hateful</th>\n      <th>Neither</th>\n    </tr>\n  </thead>\n  <tbody>\n    <tr>\n      <th>0</th>\n      <td>Never forget - the same âconservativesâ &amp; ...</td>\n      <td>0.0</td>\n      <td>1.0</td>\n      <td>0.0</td>\n      <td>0.0</td>\n    </tr>\n    <tr>\n      <th>1</th>\n      <td>More on Sheera. She wants you to superspread h...</td>\n      <td>0.0</td>\n      <td>1.0</td>\n      <td>0.0</td>\n      <td>0.0</td>\n    </tr>\n    <tr>\n      <th>2</th>\n      <td>ANTIFA and BLM are racist terror groups. They ...</td>\n      <td>0.0</td>\n      <td>0.0</td>\n      <td>1.0</td>\n      <td>0.0</td>\n    </tr>\n    <tr>\n      <th>3</th>\n      <td>Whatâs with Walmart calling Senator Josh Haw...</td>\n      <td>0.0</td>\n      <td>0.0</td>\n      <td>0.0</td>\n      <td>1.0</td>\n    </tr>\n    <tr>\n      <th>4</th>\n      <td>ANTIFA &amp; BLM are racist terror groups. They at...</td>\n      <td>0.0</td>\n      <td>0.0</td>\n      <td>1.0</td>\n      <td>0.0</td>\n    </tr>\n  </tbody>\n</table>\n</div>"
     },
     "metadata": {},
     "execution_count": 5
    }
   ],
   "source": [
    "#Testing the dataset to make sure it can be read by Pandas\n",
    "\n",
    "import pandas as pd\n",
    "df = pd.read_csv('./posts_loser.csv', encoding='ISO-8859-1')\n",
    "df.head()"
   ]
  },
  {
   "cell_type": "code",
   "execution_count": null,
   "metadata": {},
   "outputs": [],
   "source": []
  }
 ]
}