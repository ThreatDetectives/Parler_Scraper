{
 "metadata": {
  "language_info": {
   "codemirror_mode": {
    "name": "ipython",
    "version": 3
   },
   "file_extension": ".py",
   "mimetype": "text/x-python",
   "name": "python",
   "nbconvert_exporter": "python",
   "pygments_lexer": "ipython3",
   "version": "3.9.1"
  },
  "orig_nbformat": 4,
  "kernelspec": {
   "name": "python3",
   "display_name": "Python 3.9.1 64-bit ('.venv': venv)"
  },
  "interpreter": {
   "hash": "001912007b57b26fef14816da5d7cdf1ca58878f5caf4e9fe67d2313bb24ff30"
  }
 },
 "nbformat": 4,
 "nbformat_minor": 2,
 "cells": [
  {
   "cell_type": "code",
   "execution_count": 1,
   "metadata": {},
   "outputs": [],
   "source": [
    "import requests\n",
    "from bs4 import BeautifulSoup"
   ]
  },
  {
   "cell_type": "code",
   "execution_count": 2,
   "metadata": {},
   "outputs": [],
   "source": [
    "base_url = 'https://parler.adatascienti.st/'\n",
    "query = 'sword'\n",
    "search_query = 'search?q=' + query\n",
    "page = requests.get(base_url + search_query)\n",
    "soup = BeautifulSoup(page.content, \"html.parser\")"
   ]
  },
  {
   "cell_type": "code",
   "execution_count": 3,
   "metadata": {},
   "outputs": [],
   "source": [
    "import csv\n",
    "p_tags = soup.find_all(\"p\")\n",
    "file_query = query.replace('+', '_')\n",
    "writer = csv.writer(open(f'posts_{file_query}.csv ', 'w', newline='',))\n",
    "for p_tag in p_tags:\n",
    "    text = p_tag.get_text()\n",
    "    lst = []\n",
    "    if query.replace('_', ' ') in text:\n",
    "    # if 'Jan' in text:\n",
    "        lst.append(text)\n",
    "    writer.writerow(lst)"
   ]
  },
  {
   "cell_type": "code",
   "execution_count": null,
   "metadata": {},
   "outputs": [],
   "source": []
  }
 ]
}